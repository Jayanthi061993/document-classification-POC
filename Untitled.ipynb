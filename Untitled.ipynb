{
 "cells": [
  {
   "cell_type": "code",
   "execution_count": 1,
   "id": "c6cc397d",
   "metadata": {},
   "outputs": [],
   "source": [
    "from subprocess import Popen, PIPE\n",
    "from pdfminer.pdfinterp import PDFResourceManager, PDFPageInterpreter\n",
    "from pdfminer.converter import TextConverter\n",
    "from pdfminer.layout import LAParams \n",
    "from pdfminer.pdfpage import PDFPage\n",
    "import io\n",
    "from io import StringIO\n",
    "import os\n",
    "import glob\n",
    "import comtypes.client\n",
    "import sys\n",
    "import string\n",
    "from nltk.corpus import stopwords\n",
    "import matplotlib.pyplot as plt\n",
    "from nltk.stem import WordNetLemmatizer\n",
    "import warnings\n",
    "warnings.filterwarnings('ignore')\n",
    "\n",
    "import pandas as pd\n",
    "import seaborn as sns\n",
    "import matplotlib.pyplot as plt\n",
    "import json\n",
    "import nltk\n",
    "import re\n",
    "import csv"
   ]
  },
  {
   "cell_type": "code",
   "execution_count": 2,
   "id": "84cdc602",
   "metadata": {},
   "outputs": [],
   "source": [
    "wdFormatPDF = 17 # selecting the PDF format \n",
    "\n",
    "filelocation = 'D:/JAAM_PROJECTS/Document Classification Project POC Deployment/Raw Data/Taxes'\n",
    "\n",
    "filelist=os.listdir(filelocation)\n",
    "doccollection=[]\n",
    "for files in filelist: #Traversing through all the files in the location to find the doc files\n",
    "    files=os.path.join(filelocation,files)\n",
    "    doccollection.append(files)\n",
    "for x in doccollection:\n",
    "    if x.endswith('.doc'):\n",
    "        word = comtypes.client.CreateObject('Word.Application')\n",
    "        doc = word.Documents.Open(os.path.abspath(x))\n",
    "        doc.SaveAs(os.path.abspath(x+'.pdf'), FileFormat=wdFormatPDF)\n",
    "        doc.Close()\n",
    "        word.Quit()"
   ]
  },
  {
   "cell_type": "code",
   "execution_count": 4,
   "id": "357b5a31",
   "metadata": {},
   "outputs": [],
   "source": [
    "import pandas as pd\n",
    "def convert_pdf_to_txt(path):\n",
    "    #alltexts = []\n",
    "    filelist=os.listdir(path)\n",
    "    documentcollection=[]\n",
    "    for files in filelist:\n",
    "        files=os.path.join(path,files)\n",
    "        documentcollection.append(files)\n",
    "    for ifiles in documentcollection:\n",
    "        if ifiles.endswith('.pdf') or ifiles.endswith('.PDF'): #different extensions on the raw data\n",
    "            with open(ifiles, 'rb') as fh:\n",
    "                for page in PDFPage.get_pages(fh, \n",
    "                                              caching=True,\n",
    "                                              check_extractable=True):\n",
    "                    resource_manager = PDFResourceManager()\n",
    "                    fake_file_handle = io.StringIO()\n",
    "                    converter = TextConverter(resource_manager, fake_file_handle)\n",
    "                    page_interpreter = PDFPageInterpreter(resource_manager, converter)\n",
    "                    page_interpreter.process_page(page)\n",
    " \n",
    "                    text = fake_file_handle.getvalue() # extraction of the text data\n",
    "                    yield text\n",
    " \n",
    "                    # closing open handles \n",
    "                    converter.close()\n",
    "                    fake_file_handle.close()\n",
    "        \n",
    "    #return alltexts"
   ]
  },
  {
   "cell_type": "code",
   "execution_count": 5,
   "id": "cce292c4",
   "metadata": {},
   "outputs": [],
   "source": [
    "filepath='D:/JAAM_PROJECTS/Document Classification Project POC Deployment/Raw Data/Taxes'\n",
    "textcontents = convert_pdf_to_txt(filepath)\n",
    "dftaxes = pd.DataFrame(textcontents, columns = ['Text_Data']) \n",
    "dftaxes['Category'] = 'Taxes' # Adding the  label"
   ]
  },
  {
   "cell_type": "code",
   "execution_count": 6,
   "id": "dc9cea8f",
   "metadata": {},
   "outputs": [
    {
     "name": "stdout",
     "output_type": "stream",
     "text": [
      "                                             Text_Data Category\n",
      "0    FORM NO. 3CB   [See rule 6G(1)(b)]Audit report...    Taxes\n",
      "1    **(Signature and stamp/Seal of the signatory)P...    Taxes\n",
      "2    FORMNO.3CD[Seerule6G(2)]Statementofparticulars...    Taxes\n",
      "3    13. (a) Method of accounting employed in the p...    Taxes\n",
      "4    14.(a)Methodofvaluationofclosingstockemployedi...    Taxes\n",
      "..                                                 ...      ...\n",
      "226  70 THE GAZETTE OF INDIA : EXTRAORDINARY    [PA...    Taxes\n",
      "227  [भाग II—खण्‍ड 3(i)] भारत‍का‍राजपत्र‍:‍असाधारण ...    Taxes\n",
      "228  72 THE GAZETTE OF INDIA : EXTRAORDINARY    [PA...    Taxes\n",
      "229  [भाग II—खण्‍ड 3(i)] भारत‍का‍राजपत्र‍:‍असाधारण ...    Taxes\n",
      "230  FORM NO. 3CA [See rule 6G(1)(a)] Audit report ...    Taxes\n",
      "\n",
      "[231 rows x 2 columns]\n"
     ]
    }
   ],
   "source": [
    "print(dftaxes)"
   ]
  },
  {
   "cell_type": "code",
   "execution_count": 7,
   "id": "5369a70a",
   "metadata": {},
   "outputs": [],
   "source": [
    "filepath='D:/JAAM_PROJECTS/Document Classification Project POC Deployment/Raw Data/Human Resources'\n",
    "hrcontents = convert_pdf_to_txt(filepath)\n",
    "dfhr = pd.DataFrame(hrcontents, columns = ['Text_Data']) \n",
    "dfhr['Category'] = 'Human Resouces'"
   ]
  },
  {
   "cell_type": "code",
   "execution_count": 8,
   "id": "97172fe4",
   "metadata": {},
   "outputs": [
    {
     "name": "stdout",
     "output_type": "stream",
     "text": [
      "                                            Text_Data        Category\n",
      "0   PRIVACY COMPLAINT INTAKE FORM   The following ...  Human Resouces\n",
      "1                                                 ...  Human Resouces\n",
      "2                                                 ...  Human Resouces\n",
      "3                                                _...  Human Resouces\n",
      "4                                                 ...  Human Resouces\n",
      "..                                                ...             ...\n",
      "78   5/05 Page 2 of 2 Annual Attendance Summary:  ...  Human Resouces\n",
      "79  Page 1 of 2  University of Pennsylvania New Hi...  Human Resouces\n",
      "80  Page 2 of 2  Please note: Exempt Non-Resident ...  Human Resouces\n",
      "81  Form W-4 (2016)Purpose. Complete Form W-4 so t...  Human Resouces\n",
      "82  Form W-4 (2016)Page 2 Deductions and Adjustmen...  Human Resouces\n",
      "\n",
      "[83 rows x 2 columns]\n"
     ]
    }
   ],
   "source": [
    "print(dfhr)"
   ]
  },
  {
   "cell_type": "code",
   "execution_count": 9,
   "id": "417a6f1c",
   "metadata": {},
   "outputs": [],
   "source": [
    "filepath='D:/JAAM_PROJECTS/Document Classification Project POC Deployment/Raw Data/Agreements'\n",
    "agreementcontents = convert_pdf_to_txt(filepath)\n",
    "dfagreement = pd.DataFrame(agreementcontents, columns = ['Text_Data']) \n",
    "dfagreement['Category'] = 'Agreement'"
   ]
  },
  {
   "cell_type": "code",
   "execution_count": 10,
   "id": "dda8ed38",
   "metadata": {},
   "outputs": [
    {
     "name": "stdout",
     "output_type": "stream",
     "text": [
      "                                            Text_Data   Category\n",
      "0   CONSTRUCTION CONTRACT AGREEMENT PARTIES - This...  Agreement\n",
      "1   - This Agreement shall be effective on the dat...  Agreement\n",
      "2   4. To bear responsibility for any acts of negl...  Agreement\n",
      "3   As such, any amendments made by the Parties wi...  Agreement\n",
      "4   EMPLOYMENT CONTRACT AGREEMENT PARTIES - This E...  Agreement\n",
      "5    - Whereas the Parties also agree that annual ...  Agreement\n",
      "6   - All terms and conditions of this Agreement a...  Agreement\n",
      "7   - In the event of any dispute between the part...  Agreement\n",
      "8   INTELLECTUAL PROPERTY AGREEMENT PARTIES - This...  Agreement\n",
      "9   10. _____________________________ PATENT AND C...  Agreement\n",
      "10  SUCCESSORS AND ASSIGNS  - The Parties agree th...  Agreement\n",
      "11  LOAN AGREEMENT PARTIES - This Loan Agreement (...  Agreement\n",
      "12  ACKNOWLEDGEMENT - Hereby, the Parties agree th...  Agreement\n",
      "13  GOVERNING LAW - This Agreement shall be govern...  Agreement\n",
      "14  MONTH TO MONTH RENTAL AGREEMENT PARTIES - This...  Agreement\n",
      "15  COSTS AND PAYMENT - The monthly rent to be pai...  Agreement\n",
      "16  3. ________________ 4. ________________ 5. ___...  Agreement\n",
      "17  - The Parties agree that the Tenant will not k...  Agreement\n",
      "18  PAYMENT AGREEMENT PARTIES - This Payment Agree...  Agreement\n",
      "19  DISPUTE RESOLUTION - Any dispute or difference...  Agreement\n",
      "20  REFERRAL AGREEMENT PARTIES - This Referral Agr...  Agreement\n",
      "21  - The Parties agree that the means of payment ...  Agreement\n",
      "22  Any dispute or difference whatsoever arising o...  Agreement\n",
      "23  Introduction Your company needs to have a stro...  Agreement\n",
      "24  Establishing a baseline is extremely important...  Agreement\n",
      "25  4. On-page optimization Once we’ve ensured you...  Agreement\n",
      "26  Meta Descriptions Issues Meta descriptions hel...  Agreement\n",
      "27  We should also improve meta descriptions to ma...  Agreement\n",
      "28  Proposed Solution We started by identifying th...  Agreement\n",
      "29  have ended, we’ll repeat the process by comple...  Agreement\n",
      "30  SEO Campaign Management and Optimization Once ...  Agreement\n",
      "31  Terms of Agreement This SEO Proposal (“Proposa...  Agreement\n",
      "32  Confidentiality [Company Name] will not share ...  Agreement\n",
      "33  WORK FOR HIRE AGREEMENT  PARTIES - This Work F...  Agreement\n",
      "34  - The Parties agree that all work created by t...  Agreement\n",
      "35  - The Parties agree and disclose that they are...  Agreement\n",
      "36  - This Agreement shall be governed by and cons...  Agreement\n"
     ]
    }
   ],
   "source": [
    "print(dfagreement)"
   ]
  },
  {
   "cell_type": "code",
   "execution_count": 11,
   "id": "9cc61955",
   "metadata": {},
   "outputs": [
    {
     "data": {
      "text/html": [
       "<div>\n",
       "<style scoped>\n",
       "    .dataframe tbody tr th:only-of-type {\n",
       "        vertical-align: middle;\n",
       "    }\n",
       "\n",
       "    .dataframe tbody tr th {\n",
       "        vertical-align: top;\n",
       "    }\n",
       "\n",
       "    .dataframe thead th {\n",
       "        text-align: right;\n",
       "    }\n",
       "</style>\n",
       "<table border=\"1\" class=\"dataframe\">\n",
       "  <thead>\n",
       "    <tr style=\"text-align: right;\">\n",
       "      <th></th>\n",
       "      <th>Text_Data</th>\n",
       "      <th>Category</th>\n",
       "    </tr>\n",
       "  </thead>\n",
       "  <tbody>\n",
       "    <tr>\n",
       "      <th>0</th>\n",
       "      <td>FORM NO. 3CB   [See rule 6G(1)(b)]Audit report...</td>\n",
       "      <td>Taxes</td>\n",
       "    </tr>\n",
       "    <tr>\n",
       "      <th>1</th>\n",
       "      <td>**(Signature and stamp/Seal of the signatory)P...</td>\n",
       "      <td>Taxes</td>\n",
       "    </tr>\n",
       "    <tr>\n",
       "      <th>2</th>\n",
       "      <td>FORMNO.3CD[Seerule6G(2)]Statementofparticulars...</td>\n",
       "      <td>Taxes</td>\n",
       "    </tr>\n",
       "    <tr>\n",
       "      <th>3</th>\n",
       "      <td>13. (a) Method of accounting employed in the p...</td>\n",
       "      <td>Taxes</td>\n",
       "    </tr>\n",
       "    <tr>\n",
       "      <th>4</th>\n",
       "      <td>14.(a)Methodofvaluationofclosingstockemployedi...</td>\n",
       "      <td>Taxes</td>\n",
       "    </tr>\n",
       "    <tr>\n",
       "      <th>...</th>\n",
       "      <td>...</td>\n",
       "      <td>...</td>\n",
       "    </tr>\n",
       "    <tr>\n",
       "      <th>346</th>\n",
       "      <td>Confidentiality [Company Name] will not share ...</td>\n",
       "      <td>Agreement</td>\n",
       "    </tr>\n",
       "    <tr>\n",
       "      <th>347</th>\n",
       "      <td>WORK FOR HIRE AGREEMENT  PARTIES - This Work F...</td>\n",
       "      <td>Agreement</td>\n",
       "    </tr>\n",
       "    <tr>\n",
       "      <th>348</th>\n",
       "      <td>- The Parties agree that all work created by t...</td>\n",
       "      <td>Agreement</td>\n",
       "    </tr>\n",
       "    <tr>\n",
       "      <th>349</th>\n",
       "      <td>- The Parties agree and disclose that they are...</td>\n",
       "      <td>Agreement</td>\n",
       "    </tr>\n",
       "    <tr>\n",
       "      <th>350</th>\n",
       "      <td>- This Agreement shall be governed by and cons...</td>\n",
       "      <td>Agreement</td>\n",
       "    </tr>\n",
       "  </tbody>\n",
       "</table>\n",
       "<p>351 rows × 2 columns</p>\n",
       "</div>"
      ],
      "text/plain": [
       "                                             Text_Data   Category\n",
       "0    FORM NO. 3CB   [See rule 6G(1)(b)]Audit report...      Taxes\n",
       "1    **(Signature and stamp/Seal of the signatory)P...      Taxes\n",
       "2    FORMNO.3CD[Seerule6G(2)]Statementofparticulars...      Taxes\n",
       "3    13. (a) Method of accounting employed in the p...      Taxes\n",
       "4    14.(a)Methodofvaluationofclosingstockemployedi...      Taxes\n",
       "..                                                 ...        ...\n",
       "346  Confidentiality [Company Name] will not share ...  Agreement\n",
       "347  WORK FOR HIRE AGREEMENT  PARTIES - This Work F...  Agreement\n",
       "348  - The Parties agree that all work created by t...  Agreement\n",
       "349  - The Parties agree and disclose that they are...  Agreement\n",
       "350  - This Agreement shall be governed by and cons...  Agreement\n",
       "\n",
       "[351 rows x 2 columns]"
      ]
     },
     "execution_count": 11,
     "metadata": {},
     "output_type": "execute_result"
    }
   ],
   "source": [
    "frames = [dftaxes, dfhr, dfagreement]\n",
    "finalframe = pd.concat(frames,sort=False)\n",
    "finalframe = finalframe[['Text_Data','Category']]\n",
    "finalframe = finalframe.reset_index(drop=True)\n",
    "finalframe[:]"
   ]
  },
  {
   "cell_type": "code",
   "execution_count": 12,
   "id": "8cbc2de4",
   "metadata": {},
   "outputs": [],
   "source": [
    "# Create a new column 'category_id' with encoded categories \n",
    "finalframe['Category_Id'] = finalframe['Category'].factorize()[0]\n",
    "category_id_df = finalframe[['Category', 'Category_Id']]"
   ]
  },
  {
   "cell_type": "code",
   "execution_count": 13,
   "id": "534d15f6",
   "metadata": {},
   "outputs": [
    {
     "data": {
      "text/html": [
       "<div>\n",
       "<style scoped>\n",
       "    .dataframe tbody tr th:only-of-type {\n",
       "        vertical-align: middle;\n",
       "    }\n",
       "\n",
       "    .dataframe tbody tr th {\n",
       "        vertical-align: top;\n",
       "    }\n",
       "\n",
       "    .dataframe thead th {\n",
       "        text-align: right;\n",
       "    }\n",
       "</style>\n",
       "<table border=\"1\" class=\"dataframe\">\n",
       "  <thead>\n",
       "    <tr style=\"text-align: right;\">\n",
       "      <th></th>\n",
       "      <th>Text_Data</th>\n",
       "      <th>Category</th>\n",
       "      <th>Category_Id</th>\n",
       "    </tr>\n",
       "  </thead>\n",
       "  <tbody>\n",
       "    <tr>\n",
       "      <th>0</th>\n",
       "      <td>FORM NO. 3CB   [See rule 6G(1)(b)]Audit report...</td>\n",
       "      <td>Taxes</td>\n",
       "      <td>0</td>\n",
       "    </tr>\n",
       "    <tr>\n",
       "      <th>1</th>\n",
       "      <td>**(Signature and stamp/Seal of the signatory)P...</td>\n",
       "      <td>Taxes</td>\n",
       "      <td>0</td>\n",
       "    </tr>\n",
       "    <tr>\n",
       "      <th>2</th>\n",
       "      <td>FORMNO.3CD[Seerule6G(2)]Statementofparticulars...</td>\n",
       "      <td>Taxes</td>\n",
       "      <td>0</td>\n",
       "    </tr>\n",
       "    <tr>\n",
       "      <th>3</th>\n",
       "      <td>13. (a) Method of accounting employed in the p...</td>\n",
       "      <td>Taxes</td>\n",
       "      <td>0</td>\n",
       "    </tr>\n",
       "    <tr>\n",
       "      <th>4</th>\n",
       "      <td>14.(a)Methodofvaluationofclosingstockemployedi...</td>\n",
       "      <td>Taxes</td>\n",
       "      <td>0</td>\n",
       "    </tr>\n",
       "    <tr>\n",
       "      <th>...</th>\n",
       "      <td>...</td>\n",
       "      <td>...</td>\n",
       "      <td>...</td>\n",
       "    </tr>\n",
       "    <tr>\n",
       "      <th>346</th>\n",
       "      <td>Confidentiality [Company Name] will not share ...</td>\n",
       "      <td>Agreement</td>\n",
       "      <td>2</td>\n",
       "    </tr>\n",
       "    <tr>\n",
       "      <th>347</th>\n",
       "      <td>WORK FOR HIRE AGREEMENT  PARTIES - This Work F...</td>\n",
       "      <td>Agreement</td>\n",
       "      <td>2</td>\n",
       "    </tr>\n",
       "    <tr>\n",
       "      <th>348</th>\n",
       "      <td>- The Parties agree that all work created by t...</td>\n",
       "      <td>Agreement</td>\n",
       "      <td>2</td>\n",
       "    </tr>\n",
       "    <tr>\n",
       "      <th>349</th>\n",
       "      <td>- The Parties agree and disclose that they are...</td>\n",
       "      <td>Agreement</td>\n",
       "      <td>2</td>\n",
       "    </tr>\n",
       "    <tr>\n",
       "      <th>350</th>\n",
       "      <td>- This Agreement shall be governed by and cons...</td>\n",
       "      <td>Agreement</td>\n",
       "      <td>2</td>\n",
       "    </tr>\n",
       "  </tbody>\n",
       "</table>\n",
       "<p>351 rows × 3 columns</p>\n",
       "</div>"
      ],
      "text/plain": [
       "                                             Text_Data   Category  Category_Id\n",
       "0    FORM NO. 3CB   [See rule 6G(1)(b)]Audit report...      Taxes            0\n",
       "1    **(Signature and stamp/Seal of the signatory)P...      Taxes            0\n",
       "2    FORMNO.3CD[Seerule6G(2)]Statementofparticulars...      Taxes            0\n",
       "3    13. (a) Method of accounting employed in the p...      Taxes            0\n",
       "4    14.(a)Methodofvaluationofclosingstockemployedi...      Taxes            0\n",
       "..                                                 ...        ...          ...\n",
       "346  Confidentiality [Company Name] will not share ...  Agreement            2\n",
       "347  WORK FOR HIRE AGREEMENT  PARTIES - This Work F...  Agreement            2\n",
       "348  - The Parties agree that all work created by t...  Agreement            2\n",
       "349  - The Parties agree and disclose that they are...  Agreement            2\n",
       "350  - This Agreement shall be governed by and cons...  Agreement            2\n",
       "\n",
       "[351 rows x 3 columns]"
      ]
     },
     "execution_count": 13,
     "metadata": {},
     "output_type": "execute_result"
    }
   ],
   "source": [
    "finalframe"
   ]
  },
  {
   "cell_type": "code",
   "execution_count": 14,
   "id": "d287dbcf",
   "metadata": {},
   "outputs": [
    {
     "data": {
      "text/html": [
       "<div>\n",
       "<style scoped>\n",
       "    .dataframe tbody tr th:only-of-type {\n",
       "        vertical-align: middle;\n",
       "    }\n",
       "\n",
       "    .dataframe tbody tr th {\n",
       "        vertical-align: top;\n",
       "    }\n",
       "\n",
       "    .dataframe thead th {\n",
       "        text-align: right;\n",
       "    }\n",
       "</style>\n",
       "<table border=\"1\" class=\"dataframe\">\n",
       "  <thead>\n",
       "    <tr style=\"text-align: right;\">\n",
       "      <th></th>\n",
       "      <th>Text_Data</th>\n",
       "      <th>Category</th>\n",
       "      <th>Category_Id</th>\n",
       "    </tr>\n",
       "  </thead>\n",
       "  <tbody>\n",
       "    <tr>\n",
       "      <th>0</th>\n",
       "      <td>FORM NO. 3CB   [See rule 6G(1)(b)]Audit report...</td>\n",
       "      <td>Taxes</td>\n",
       "      <td>0</td>\n",
       "    </tr>\n",
       "    <tr>\n",
       "      <th>1</th>\n",
       "      <td>**(Signature and stamp/Seal of the signatory)P...</td>\n",
       "      <td>Taxes</td>\n",
       "      <td>0</td>\n",
       "    </tr>\n",
       "    <tr>\n",
       "      <th>2</th>\n",
       "      <td>FORMNO.3CD[Seerule6G(2)]Statementofparticulars...</td>\n",
       "      <td>Taxes</td>\n",
       "      <td>0</td>\n",
       "    </tr>\n",
       "    <tr>\n",
       "      <th>3</th>\n",
       "      <td>13. (a) Method of accounting employed in the p...</td>\n",
       "      <td>Taxes</td>\n",
       "      <td>0</td>\n",
       "    </tr>\n",
       "    <tr>\n",
       "      <th>4</th>\n",
       "      <td>14.(a)Methodofvaluationofclosingstockemployedi...</td>\n",
       "      <td>Taxes</td>\n",
       "      <td>0</td>\n",
       "    </tr>\n",
       "  </tbody>\n",
       "</table>\n",
       "</div>"
      ],
      "text/plain": [
       "                                           Text_Data Category  Category_Id\n",
       "0  FORM NO. 3CB   [See rule 6G(1)(b)]Audit report...    Taxes            0\n",
       "1  **(Signature and stamp/Seal of the signatory)P...    Taxes            0\n",
       "2  FORMNO.3CD[Seerule6G(2)]Statementofparticulars...    Taxes            0\n",
       "3  13. (a) Method of accounting employed in the p...    Taxes            0\n",
       "4  14.(a)Methodofvaluationofclosingstockemployedi...    Taxes            0"
      ]
     },
     "execution_count": 14,
     "metadata": {},
     "output_type": "execute_result"
    }
   ],
   "source": [
    "# Dictionaries for future use\n",
    "category_to_id = dict(category_id_df.values)\n",
    "id_to_category = dict(category_id_df[['Category', 'Category_Id']].values)\n",
    "# New dataframe\n",
    "finalframe.head()"
   ]
  },
  {
   "cell_type": "code",
   "execution_count": 15,
   "id": "93869315",
   "metadata": {},
   "outputs": [
    {
     "data": {
      "image/png": "[encoded data removed]",
      "text/plain": [
       "<Figure size 576x432 with 1 Axes>"
      ]
     },
     "metadata": {
      "needs_background": "light"
     },
     "output_type": "display_data"
    }
   ],
   "source": [
    "fig = plt.figure(figsize=(8,6))\n",
    "colors = ['grey','grey','grey','grey','grey','grey','grey','grey','grey', 'grey','darkblue','darkblue','darkblue']\n",
    "finalframe.groupby('Category').Text_Data.count().sort_values().plot.barh(ylim=0, color=colors, title= 'GRAPH')\n",
    "plt.xlabel('Number of ocurrences', fontsize = 10);"
   ]
  },
  {
   "cell_type": "code",
   "execution_count": 16,
   "id": "7167e1c8",
   "metadata": {},
   "outputs": [
    {
     "name": "stdout",
     "output_type": "stream",
     "text": [
      "Each of the 351 Text Data is represented by 5115 features (TF-IDF score of unigrams and bigrams)\n"
     ]
    }
   ],
   "source": [
    "from sklearn.feature_extraction.text import TfidfVectorizer\n",
    "from sklearn.feature_extraction.text import TfidfTransformer\n",
    "tfidf = TfidfVectorizer(sublinear_tf=True, min_df=5, ngram_range=(1, 2), stop_words='english')\n",
    "# We transform each complaint into a vector\n",
    "features = tfidf.fit_transform(finalframe.Text_Data).toarray()\n",
    "labels = finalframe.Category_Id\n",
    "print(\"Each of the %d Text Data is represented by %d features (TF-IDF score of unigrams and bigrams)\" %(features.shape))\n"
   ]
  },
  {
   "cell_type": "code",
   "execution_count": 17,
   "id": "a9da8f50",
   "metadata": {},
   "outputs": [
    {
     "name": "stdout",
     "output_type": "stream",
     "text": [
      "[[0. 0. 0. ... 0. 0. 0.]\n",
      " [0. 0. 0. ... 0. 0. 0.]\n",
      " [0. 0. 0. ... 0. 0. 0.]\n",
      " ...\n",
      " [0. 0. 0. ... 0. 0. 0.]\n",
      " [0. 0. 0. ... 0. 0. 0.]\n",
      " [0. 0. 0. ... 0. 0. 0.]]\n",
      "(351, 5115)\n"
     ]
    }
   ],
   "source": [
    "print(features)\n",
    "print(features.shape)\n"
   ]
  },
  {
   "cell_type": "code",
   "execution_count": 18,
   "id": "3f6deab4",
   "metadata": {},
   "outputs": [
    {
     "name": "stdout",
     "output_type": "stream",
     "text": [
      "0      0\n",
      "1      0\n",
      "2      0\n",
      "3      0\n",
      "4      0\n",
      "      ..\n",
      "346    2\n",
      "347    2\n",
      "348    2\n",
      "349    2\n",
      "350    2\n",
      "Name: Category_Id, Length: 351, dtype: int64\n"
     ]
    }
   ],
   "source": [
    "print(labels)"
   ]
  },
  {
   "cell_type": "code",
   "execution_count": 19,
   "id": "dafb834c",
   "metadata": {},
   "outputs": [
    {
     "name": "stdout",
     "output_type": "stream",
     "text": [
      "n==> Agreement:\n",
      "  * Most Correlated Unigrams are: agreement, ________________, parties\n",
      "  * Most Correlated Bigrams are: address ________________, hereinafter referred, parties agree\n",
      "n==> Human Resouces:\n",
      "  * Most Correlated Unigrams are: employment, employee, job\n",
      "  * Most Correlated Bigrams are: does employee, does municipality, human resources\n",
      "n==> Taxes:\n",
      "  * Most Correlated Unigrams are: performance, job, employee\n",
      "  * Most Correlated Bigrams are: hereinafter referred, human resources, parties agree\n"
     ]
    }
   ],
   "source": [
    "from sklearn.feature_selection import chi2\n",
    "import numpy as np\n",
    "# Finding the three most correlated terms with each of the product categories\n",
    "N = 3\n",
    "for Category, Category_Id in sorted(category_to_id.items()):\n",
    "  features_chi2 = chi2(features, labels == Category_Id)\n",
    "  indices = np.argsort(features_chi2[0])\n",
    "  feature_names = np.array(tfidf.get_feature_names())[indices]\n",
    "  unigrams = [v for v in feature_names if len(v.split(' ')) == 1]\n",
    "  bigrams = [v for v in feature_names if len(v.split(' ')) == 2]\n",
    "  print(\"n==> %s:\" %(Category))\n",
    "  print(\"  * Most Correlated Unigrams are: %s\" %(', '.join(unigrams[-N:])))\n",
    "  print(\"  * Most Correlated Bigrams are: %s\" %(', '.join(bigrams[-N:])))"
   ]
  },
  {
   "cell_type": "code",
   "execution_count": 20,
   "id": "f2e662c3",
   "metadata": {},
   "outputs": [],
   "source": [
    "from sklearn.model_selection import train_test_split\n",
    "X = finalframe['Text_Data'] # Collection of documents\n",
    "y = finalframe['Category'] # Target or the labels we want to predict (i.e., the 3 different complaints of products)\n",
    "X_train, X_test, y_train, y_test = train_test_split(X, y, test_size=0.25, random_state = 0)"
   ]
  },
  {
   "cell_type": "code",
   "execution_count": 21,
   "id": "f74dc1a7",
   "metadata": {},
   "outputs": [],
   "source": [
    "from sklearn.naive_bayes import MultinomialNB\n",
    "from sklearn.linear_model import LogisticRegression\n",
    "from sklearn.ensemble import RandomForestClassifier\n",
    "from sklearn.svm import LinearSVC\n",
    "from sklearn.model_selection import cross_val_score\n",
    "from sklearn.metrics import confusion_matrix\n",
    "from sklearn import metrics\n",
    "\n",
    "models = [\n",
    "    RandomForestClassifier(n_estimators=100, max_depth=5, random_state=0),\n",
    "    LinearSVC(),\n",
    "    MultinomialNB(),\n",
    "    LogisticRegression(random_state=0),\n",
    "]"
   ]
  },
  {
   "cell_type": "code",
   "execution_count": 22,
   "id": "72060b23",
   "metadata": {},
   "outputs": [],
   "source": [
    "# 5 Cross-validation\n",
    "CV = 5\n",
    "cv_df = pd.DataFrame(index=range(CV * len(models)))"
   ]
  },
  {
   "cell_type": "code",
   "execution_count": 23,
   "id": "b3852b30",
   "metadata": {},
   "outputs": [],
   "source": [
    "entries = []\n",
    "for model in models:\n",
    "  model_name = model.__class__.__name__\n",
    "  accuracies = cross_val_score(model, features, labels, scoring='accuracy', cv=CV)\n",
    "  for fold_idx, accuracy in enumerate(accuracies):\n",
    "    entries.append((model_name, fold_idx, accuracy))\n",
    "cv_df = pd.DataFrame(entries, columns=['model_name', 'fold_idx', 'accuracy'])"
   ]
  },
  {
   "cell_type": "code",
   "execution_count": 24,
   "id": "b18bbd7c",
   "metadata": {},
   "outputs": [
    {
     "data": {
      "text/html": [
       "<div>\n",
       "<style scoped>\n",
       "    .dataframe tbody tr th:only-of-type {\n",
       "        vertical-align: middle;\n",
       "    }\n",
       "\n",
       "    .dataframe tbody tr th {\n",
       "        vertical-align: top;\n",
       "    }\n",
       "\n",
       "    .dataframe thead th {\n",
       "        text-align: right;\n",
       "    }\n",
       "</style>\n",
       "<table border=\"1\" class=\"dataframe\">\n",
       "  <thead>\n",
       "    <tr style=\"text-align: right;\">\n",
       "      <th></th>\n",
       "      <th>Mean Accuracy</th>\n",
       "      <th>Standard deviation</th>\n",
       "    </tr>\n",
       "    <tr>\n",
       "      <th>model_name</th>\n",
       "      <th></th>\n",
       "      <th></th>\n",
       "    </tr>\n",
       "  </thead>\n",
       "  <tbody>\n",
       "    <tr>\n",
       "      <th>LinearSVC</th>\n",
       "      <td>0.982897</td>\n",
       "      <td>0.023480</td>\n",
       "    </tr>\n",
       "    <tr>\n",
       "      <th>LogisticRegression</th>\n",
       "      <td>0.948612</td>\n",
       "      <td>0.052135</td>\n",
       "    </tr>\n",
       "    <tr>\n",
       "      <th>MultinomialNB</th>\n",
       "      <td>0.948571</td>\n",
       "      <td>0.058554</td>\n",
       "    </tr>\n",
       "    <tr>\n",
       "      <th>RandomForestClassifier</th>\n",
       "      <td>0.940282</td>\n",
       "      <td>0.048580</td>\n",
       "    </tr>\n",
       "  </tbody>\n",
       "</table>\n",
       "</div>"
      ],
      "text/plain": [
       "                        Mean Accuracy  Standard deviation\n",
       "model_name                                               \n",
       "LinearSVC                    0.982897            0.023480\n",
       "LogisticRegression           0.948612            0.052135\n",
       "MultinomialNB                0.948571            0.058554\n",
       "RandomForestClassifier       0.940282            0.048580"
      ]
     },
     "execution_count": 24,
     "metadata": {},
     "output_type": "execute_result"
    }
   ],
   "source": [
    "mean_accuracy = cv_df.groupby('model_name').accuracy.mean()\n",
    "std_accuracy = cv_df.groupby('model_name').accuracy.std()\n",
    "\n",
    "acc = pd.concat([mean_accuracy, std_accuracy], axis= 1, \n",
    "          ignore_index=True)\n",
    "acc.columns = ['Mean Accuracy', 'Standard deviation']\n",
    "acc"
   ]
  },
  {
   "cell_type": "code",
   "execution_count": 25,
   "id": "63d320ff",
   "metadata": {},
   "outputs": [
    {
     "data": {
      "image/png": "[encoded data removed]",
      "text/plain": [
       "<Figure size 576x360 with 1 Axes>"
      ]
     },
     "metadata": {
      "needs_background": "light"
     },
     "output_type": "display_data"
    }
   ],
   "source": [
    "plt.figure(figsize=(8,5))\n",
    "sns.boxplot(x='model_name', y='accuracy', \n",
    "            data=cv_df, \n",
    "            color='lightblue', \n",
    "            showmeans=True)\n",
    "plt.title(\"MEAN ACCURACY (cv = 5)n\", size=14);"
   ]
  },
  {
   "cell_type": "code",
   "execution_count": 26,
   "id": "a83ac351",
   "metadata": {},
   "outputs": [],
   "source": [
    "X_train, X_test, y_train, y_test,indices_train,indices_test = train_test_split(features, labels, finalframe.index, test_size=0.25, random_state=1)\n",
    "model = LinearSVC()\n",
    "model.fit(X_train, y_train)\n",
    "y_pred = model.predict(X_test)"
   ]
  },
  {
   "cell_type": "code",
   "execution_count": 27,
   "id": "adf77038",
   "metadata": {},
   "outputs": [
    {
     "name": "stdout",
     "output_type": "stream",
     "text": [
      "ttttCLASSIFICATIION METRICSn\n",
      "                precision    recall  f1-score   support\n",
      "\n",
      "         Taxes       1.00      1.00      1.00        58\n",
      "Human Resouces       1.00      1.00      1.00        23\n",
      "     Agreement       1.00      1.00      1.00         7\n",
      "\n",
      "      accuracy                           1.00        88\n",
      "     macro avg       1.00      1.00      1.00        88\n",
      "  weighted avg       1.00      1.00      1.00        88\n",
      "\n"
     ]
    }
   ],
   "source": [
    "# Classification report\n",
    "print('ttttCLASSIFICATIION METRICSn')\n",
    "print(metrics.classification_report(y_test, y_pred, target_names= finalframe['Category'].unique()))"
   ]
  },
  {
   "cell_type": "code",
   "execution_count": 28,
   "id": "3f6e42fd",
   "metadata": {},
   "outputs": [],
   "source": [
    "X_train, X_test, y_train, y_test = train_test_split(X, y, test_size=0.25, random_state = 0)"
   ]
  },
  {
   "cell_type": "code",
   "execution_count": 29,
   "id": "386edd77",
   "metadata": {},
   "outputs": [],
   "source": [
    "tfidf = TfidfVectorizer(sublinear_tf=True, min_df=5, ngram_range=(1, 2), stop_words='english')"
   ]
  },
  {
   "cell_type": "code",
   "execution_count": 30,
   "id": "09d9131c",
   "metadata": {},
   "outputs": [],
   "source": [
    "fitted_vectorizer = tfidf.fit(X_train)\n",
    "tfidf_vectorizer_vectors = fitted_vectorizer.transform(X_train)"
   ]
  },
  {
   "cell_type": "code",
   "execution_count": 31,
   "id": "58946807",
   "metadata": {},
   "outputs": [],
   "source": [
    "model = LinearSVC().fit(tfidf_vectorizer_vectors, y_train)"
   ]
  },
  {
   "cell_type": "code",
   "execution_count": 32,
   "id": "18f910ae",
   "metadata": {},
   "outputs": [],
   "source": [
    "demofile = 'f1040.pdf'"
   ]
  },
  {
   "cell_type": "code",
   "execution_count": 33,
   "id": "3eaf4272",
   "metadata": {},
   "outputs": [],
   "source": [
    "# Parsing through the sample document and extracting the textual data\n",
    "def convert2txt():\n",
    "    alltexts = []\n",
    "    with open(demofile, 'rb') as fh:\n",
    "        rsrcmgr = PDFResourceManager()\n",
    "        retstr = StringIO()\n",
    "        codec = 'utf-8'\n",
    "        laparams = LAParams()\n",
    "        device = TextConverter(rsrcmgr, retstr, codec=codec, laparams=laparams)\n",
    "        fp = open(demofile, 'rb')\n",
    "        interpreter = PDFPageInterpreter(rsrcmgr, device)\n",
    "        password = \"\"\n",
    "        maxpages = 0\n",
    "        caching = True\n",
    "        pagenos=set()\n",
    "\n",
    "        for page in PDFPage.get_pages(fp, pagenos, maxpages=maxpages, password=password,caching=caching, check_extractable=True):\n",
    "            interpreter.process_page(page)\n",
    "\n",
    "        text = retstr.getvalue()\n",
    "        alltexts.append(text)\n",
    "        fp.close()\n",
    "        device.close()\n",
    "        retstr.close()\n",
    "        \n",
    "    return alltexts "
   ]
  },
  {
   "cell_type": "code",
   "execution_count": 34,
   "id": "8f91c99f",
   "metadata": {},
   "outputs": [],
   "source": [
    "textdata = convert2txt()"
   ]
  },
  {
   "cell_type": "code",
   "execution_count": 35,
   "id": "b76be882",
   "metadata": {},
   "outputs": [
    {
     "data": {
      "text/plain": [
       "['m1040 \\n\\nr\\no\\nF\\n\\n(99)\\nDepartment of the Treasury—Internal Revenue Service \\nU.S. Individual Income Tax Return \\n\\n2021\\n\\nOMB No. 1545-0074\\n\\nIRS Use Only—Do not write or staple in this space. \\n\\nFiling Status  \\nCheck only \\none box.\\n\\nSingle\\n\\nMarried filing jointly\\n\\nMarried filing separately (MFS)\\n\\nHead of household (HOH)\\n\\nQualifying widow(er) (QW)\\n\\nIf you checked the MFS box, enter the name of your spouse. If you checked the HOH or QW box, enter the child’s name if the qualifying \\nperson is a child but not your dependent  ▶\\n\\nYour first name and middle initial \\n\\nLast name \\n\\nYour social security number \\n\\nIf joint return, spouse’s first name and middle initial\\n\\nLast name \\n\\nSpouse’s social security number\\n\\nHome address (number and street). If you have a P.O. box, see instructions. \\n\\nApt. no. \\n\\nCity, town, or post office. If you have a foreign address, also complete spaces below. \\n\\nState\\n\\nZIP code\\n\\nForeign country name                                        \\n\\nForeign province/state/county                         Foreign postal code  \\n\\nPresidential Election Campaign\\nCheck here if you, or your \\nspouse if filing jointly, want $3 \\nto go to this fund. Checking a \\nbox below will not change \\nyour tax or refund. \\n\\nYou \\n\\nSpouse \\n\\nAt any time during 2021, did you receive, sell, exchange, or otherwise dispose of any financial interest in any virtual currency?\\n\\nYes \\n\\nNo\\n\\nStandard \\nDeduction\\n\\nSomeone can claim:\\n\\nYou as a dependent\\nSpouse itemizes on a separate return or you were a dual-status alien\\n\\nYour spouse as a dependent\\n\\nAge/Blindness You:\\n\\nWere born before January 2, 1957\\n\\nAre blind\\n\\nSpouse:\\n\\nWas born before January 2, 1957\\n\\nIs blind\\n\\n Last name\\n\\n(2) Social security \\nnumber\\n\\n(3) Relationship \\nto you\\n\\n(4) ✔ if qualifies for (see instructions):\\nChild tax credit\\n\\nCredit for other dependents\\n\\n(1) First name  \\n\\nDependents (see instructions):\\nIf more         \\nthan four \\ndependents, \\nsee instructions \\nand check \\nhere ▶\\n\\nAttach \\nSch. B if \\nrequired.\\n\\nStandard  \\nDeduction for—\\n• Single or \\n\\nMarried filing \\nseparately,  \\n$12,550\\n\\n• Married filing  \\n\\njointly or \\nQualifying \\nwidow(er), \\n$25,100\\n• Head of \\n\\nhousehold, \\n$18,800\\n\\n• If you checked \\nany box under \\nStandard \\nDeduction, \\nsee instructions.\\n\\nTax-exempt interest  .\\n.\\n.\\n\\n1  Wages, salaries, tips, etc. Attach Form(s) W-2 \\n.\\n2a\\n3a Qualified dividends \\n.\\nIRA distributions  .\\n.\\n4a\\n5a Pensions and annuities  .\\n6a Social security benefits  .\\n7\\n\\n2a \\n3a \\n4a \\n\\n5a\\n6a \\n\\n.\\n.\\n.\\n\\n.\\n.\\n\\n.\\n\\n.\\n\\n.\\n\\n.\\n\\n.\\n\\n.\\n\\n.\\n\\n.\\n\\n.\\n\\n.\\n\\n.\\n\\n.\\n\\nb  Taxable interest  \\n.\\nb  Ordinary dividends  .\\nb  Taxable amount .\\n.\\nb  Taxable amount .\\nb  Taxable amount .\\n.\\n\\n.\\n.\\n.\\n\\nCapital gain or (loss). Attach Schedule D if required. If not required, check here \\n\\nOther income from Schedule 1, line 10 \\n.\\n8\\nAdd lines 1, 2b, 3b, 4b, 5b, 6b, 7, and 8. This is your total income \\n9\\nAdjustments to income from Schedule 1, line 26 \\n.\\n10 \\nSubtract line 10 from line 9. This is your adjusted gross income \\n11\\n12a Standard deduction or itemized deductions (from Schedule A) \\n\\n.\\n\\n.\\n\\n.\\n\\n.\\n\\n.\\n\\n.\\n\\n.\\n\\n.\\n\\n.\\n\\n.\\n\\n.\\n\\n.\\n.\\n.\\n\\n.\\n\\n.\\n\\n.\\n.\\n.\\n\\n.\\n\\n.\\n\\nb Charitable contributions if you take the standard deduction (see instructions) \\n.\\n.\\nc Add lines 12a and 12b \\nQualified business income deduction from Form 8995 or Form 8995-A  .\\nAdd lines 12c and 13 \\n.\\n.\\nTaxable income. Subtract line 14 from line 11. If zero or less, enter -0-  .\\n\\n.\\n\\n.\\n\\n.\\n\\n.\\n\\n.\\n\\n.\\n\\n.\\n\\n.\\n\\n.\\n\\n.\\n\\n.\\n\\n.\\n\\n.\\n\\n.\\n\\n.\\n\\n.\\n\\n.\\n\\n.\\n\\n.\\n\\n.\\n\\n.\\n\\n.\\n\\n.\\n\\n.\\n\\n.\\n\\n.\\n\\n13\\n14\\n15\\n\\n.\\n.\\n.\\n\\n.\\n\\n.\\n.\\n.\\n.\\n\\n.\\n.\\n.\\n\\n.\\n\\n12a\\n12b\\n.\\n.\\n.\\n.\\n\\n.\\n.\\n.\\n\\n.\\n\\n.\\n.\\n.\\n.\\n\\n.\\n.\\n.\\n\\n.\\n\\n.\\n.\\n.\\n.\\n\\n.\\n\\n.\\n.\\n.\\n\\n.\\n.\\n.\\n\\n.\\n.\\n.\\n\\n.\\n\\n.\\n.\\n.\\n.\\n\\n.\\n\\n.\\n.\\n.\\n\\n.\\n.\\n\\n.\\n\\n.\\n.\\n.\\n\\n.\\n\\n.\\n.\\n.\\n\\n.\\n.\\n.\\n.\\n. ▶\\n\\n.\\n.\\n.\\n\\n.\\n\\n.\\n.\\n.\\n.\\n\\n.\\n.\\n. ▶\\n.\\n.\\n\\n. ▶\\n\\n.\\n.\\n.\\n.\\n\\n.\\n.\\n.\\n.\\n\\n1\\n\\n2b \\n3b \\n4b \\n\\n5b\\n6b \\n7\\n\\n8\\n9\\n10\\n\\n11\\n\\n12c\\n13\\n14\\n\\n15\\n\\nFor Disclosure, Privacy Act, and Paperwork Reduction Act Notice, see separate instructions. \\n\\nCat. No. 11320B \\n\\nForm 1040 (2021)\\n\\n\\x0cForm 1040 (2021)\\n\\nPage 2\\n\\n16\\n17\\n\\n18\\n19\\n20\\n\\n21\\n22\\n23\\n\\n24\\n25\\n\\nTax (see instructions). Check if any from Form(s):  1\\n.\\nAmount from Schedule 2, line 3 \\n\\n.\\n\\n.\\n\\n.\\n\\n.\\n\\n8814  2\\n.\\n.\\n\\n.\\n\\n.\\n\\n.\\n\\n4972\\n.\\n.\\n\\n3\\n\\n.\\n\\n.\\n\\n.\\n\\nAdd lines 16 and 17  .\\n.\\n.\\nNonrefundable child tax credit or credit for other dependents from Schedule 8812 \\n.\\n.\\nAmount from Schedule 3, line 8 \\n\\n.\\n\\n.\\n\\n.\\n\\n.\\n\\n.\\n\\n.\\n\\n.\\n\\n.\\n\\n.\\n\\n.\\n\\n.\\n\\n.\\n\\n.\\n\\n.\\n\\n.\\n\\n.\\n\\n.\\n\\n.\\n\\n.\\n\\n.\\n\\n.\\n\\n.\\n\\n.\\n\\n.\\n\\n.\\n\\n.\\n\\n.\\n\\n.\\n\\n.\\n\\n.\\n\\n.\\n\\n.\\n\\n.\\n\\n.\\n\\n.\\nAdd lines 19 and 20  .\\n.\\nSubtract line 21 from line 18. If zero or less, enter -0- \\n.\\nOther taxes, including self-employment tax, from Schedule 2, line 21 \\nAdd lines 22 and 23. This is your total tax \\nFederal income tax withheld from:\\n\\n.\\n.\\n\\n.\\n.\\n\\n.\\n.\\n\\n.\\n.\\n\\n.\\n\\n.\\n\\n.\\n\\n.\\n\\n.\\n\\n.\\n\\n.\\n\\n.\\n\\n.\\n\\n.\\n\\n.\\n\\n.\\n\\n.\\n\\n.\\n\\nForm(s) W-2 \\n.\\na\\nb  Form(s) 1099  .\\nc Other forms (see instructions) \\nd  Add lines 25a through 25c \\n\\n.\\n\\n.\\n\\n.\\n\\n.\\n\\n.\\n\\n.\\n\\n.\\n\\n.\\n.\\n.\\n\\n.\\n\\n.\\n.\\n.\\n\\n.\\n\\n.\\n.\\n.\\n\\n.\\n\\n.\\n.\\n.\\n\\n.\\n\\n.\\n.\\n.\\n\\n.\\n\\n.\\n.\\n.\\n\\n.\\n\\n.\\n.\\n.\\n\\n.\\n\\n.\\n.\\n.\\n\\n.\\n\\n.\\n.\\n.\\n\\n.\\n\\n.\\n.\\n.\\n\\n.\\n\\n.\\n.\\n.\\n\\n.\\n\\n.\\n.\\n.\\n\\nIf you have a \\nqualifying child, \\nattach Sch. EIC.\\n\\n26\\n27a\\n\\n2021 estimated tax payments and amount applied from 2020 return  .\\nEarned income credit (EIC)  .\\n.\\n.\\nCheck  here  if  you  were  born  after  January  1,  1998,  and  before \\nJanuary  2,  2004,  and  you  satisfy  all  the  other  requirements  for \\ntaxpayers who are at least age 18, to claim the EIC. See instructions ▶\\n\\n.\\n\\n.\\n\\n.\\n\\n.\\n\\n.\\n\\n.\\n\\n.\\n\\n.\\n\\n.\\n\\n.\\n\\n.\\n\\n.\\n.\\n.\\n\\n.\\n.\\n.\\n\\n.\\n\\n.\\n\\n.\\n\\n.\\n\\n.\\n.\\n.\\n\\n.\\n.\\n.\\n\\n.\\n\\n.\\n\\n.\\n\\n.\\n\\n.\\n.\\n.\\n\\n.\\n.\\n.\\n\\n.\\n\\n.\\n\\n.\\n\\n.\\n.\\n\\n.\\n.\\n.\\n\\n.\\n.\\n.\\n\\n.\\n.\\n\\n.  \\n.\\n.\\n\\n.\\n.\\n.\\n\\n. ▶\\n\\n16\\n17\\n\\n18\\n19\\n20\\n\\n21\\n22\\n23\\n\\n24\\n\\n.\\n\\n.\\n\\n.\\n\\n.\\n\\n25d\\n\\n26\\n\\n.\\n.\\n.\\n\\n.\\n\\n.\\n\\n.\\n.\\n.\\n\\n.\\n.\\n\\n.\\n.\\n.\\n\\n.\\n\\n.\\n\\n.\\n\\n.\\n.\\n.\\n\\n.\\n\\n.\\n\\n.\\n\\n.\\n.\\n.\\n\\n.\\n\\n25a\\n\\n25b\\n25c\\n.\\n\\n.\\n\\n27a\\n\\nb  Nontaxable combat pay election \\nc Prior year (2019) earned income \\n\\n.\\n.\\n\\n.\\n.\\n\\n.\\n.\\n\\n.\\n.\\n\\n27b\\n27c\\n\\n28\\n\\n29\\n30\\n31\\n\\n32\\n33\\n\\nRefundable child tax credit or additional child tax credit from Schedule 8812  \\n\\n28\\n\\nAmerican opportunity credit from Form 8863, line 8 .\\n.\\nRecovery rebate credit. See instructions  .\\nAmount from Schedule 3, line 15 \\n.\\n.\\nAdd lines 27a and 28 through 31. These are your total other payments and refundable credits   ▶ \\n. ▶\\nAdd lines 25d, 26, and 32. These are your total payments \\n\\n29\\n30\\n31\\n\\n.\\n.\\n.\\n\\n.\\n.\\n.\\n\\n.\\n.\\n.\\n\\n.\\n.\\n.\\n\\n.\\n.\\n.\\n\\n.\\n.\\n.\\n\\n.\\n.\\n\\n.\\n.\\n\\n.\\n\\n.\\n\\n.\\n\\n.\\n\\n.\\n\\n.\\n\\n.\\n\\n.\\n\\n.\\n\\n.\\n\\n.\\n\\n.\\n\\nIf line 33 is more than line 24, subtract line 24 from line 33. This is the amount you overpaid \\n\\n34\\n35a Amount of line 34 you want refunded to you. If Form 8888 is attached, check here \\n▶ b  Routing number \\n▶ d  Account number\\n36\\n\\nAmount of line 34 you want applied to your 2022 estimated tax  .\\n\\n.\\nChecking \\n\\n▶ c Type: \\n\\n. ▶\\n\\n36\\n\\n.\\n\\n.\\n\\n.\\n\\n. ▶\\nSavings\\n\\n32\\n33\\n34\\n\\n35a\\n\\n37 \\n38\\n\\nAmount you owe. Subtract line 33 from line 24. For details on how to pay, see instructions  \\n.\\nEstimated tax penalty (see instructions) \\n\\n. ▶\\n\\n.\\n\\n.\\n\\n.\\n\\n.\\n\\n.\\n\\n.\\n\\n.\\n\\n38\\n\\n.\\n\\n ▶\\n\\n37\\n\\nDo  you  want  to  allow  another  person  to  discuss  this  return  with  the  IRS?  See \\n ▶\\n.\\ninstructions \\n\\n.\\n\\n.\\n\\n.\\n\\n.\\n\\n.\\n\\n.\\n\\n.\\n\\n.\\n\\n.\\n\\n.\\n\\n.\\n\\n.\\n\\n.\\n\\n.\\n\\n.\\n\\n.\\n\\n.\\n\\n.\\n\\n.\\n\\nDesignee’s \\nname  ▶\\n\\nPhone \\nno.  ▶\\n\\nYes. Complete below. \\n\\nNo\\n\\nPersonal identification \\nnumber (PIN)  ▶\\n\\nRefund \\n\\nDirect deposit?  \\nSee instructions.\\n\\nAmount  \\nYou Owe\\nThird Party \\nDesignee \\n\\nSign  \\nHere \\n\\nJoint return?  \\nSee instructions.  \\nKeep a copy for \\nyour records. \\n\\n▲\\n\\nUnder penalties of perjury, I declare that I have examined this return and accompanying schedules and statements, and to the best of my knowledge and \\nbelief, they are true, correct, and complete. Declaration of preparer (other than taxpayer) is based on all information of which preparer has any knowledge.\\n\\nYour signature \\n\\nDate \\n\\nYour occupation \\n\\nSpouse’s signature. If a joint return, both must sign. \\n\\nDate \\n\\nSpouse’s occupation\\n\\nIf the IRS sent you an Identity \\nProtection PIN, enter it here \\n(see inst.) ▶\\n\\nIf the IRS sent your spouse an \\nIdentity Protection PIN, enter it here \\n(see inst.) ▶\\n\\nEmail address \\n\\nPreparer’s signature \\n\\nDate \\n\\n PTIN\\n\\nCheck if:\\n\\nPaid  \\nPreparer  \\nUse Only \\n\\nPhone no. \\n\\nPreparer’s name \\n\\nFirm’s name  ▶\\n\\nFirm’s address  ▶\\n\\nGo to www.irs.gov/Form1040 for instructions and the latest information.\\n\\nPhone no. \\n\\nFirm’s EIN  ▶\\n\\nSelf-employed\\n\\nForm 1040 (2021) \\n\\n\\x0c']"
      ]
     },
     "execution_count": 35,
     "metadata": {},
     "output_type": "execute_result"
    }
   ],
   "source": [
    "textdata"
   ]
  },
  {
   "cell_type": "code",
   "execution_count": 36,
   "id": "c43a5ed6",
   "metadata": {},
   "outputs": [
    {
     "name": "stdout",
     "output_type": "stream",
     "text": [
      "['Taxes']\n"
     ]
    }
   ],
   "source": [
    "print(model.predict(fitted_vectorizer.transform(textdata)))"
   ]
  },
  {
   "cell_type": "code",
   "execution_count": 37,
   "id": "1a82693d",
   "metadata": {},
   "outputs": [],
   "source": [
    "import pickle\n",
    "\n",
    "pickle.dump(fitted_vectorizer,open('fitted_vectorizer.pkl', 'wb'))\n",
    "pickle.dump(model, open('model.pkl', 'wb'))"
   ]
  },
  {
   "cell_type": "code",
   "execution_count": null,
   "id": "de36cdfc",
   "metadata": {},
   "outputs": [],
   "source": []
  }
 ],
 "metadata": {
  "kernelspec": {
   "display_name": "Python 3 (ipykernel)",
   "language": "python",
   "name": "python3"
  },
  "language_info": {
   "codemirror_mode": {
    "name": "ipython",
    "version": 3
   },
   "file_extension": ".py",
   "mimetype": "text/x-python",
   "name": "python",
   "nbconvert_exporter": "python",
   "pygments_lexer": "ipython3",
   "version": "3.10.4"
  },
  "vscode": {
   "interpreter": {
    "hash": "52634da84371cba311ea128a5ea7cdc41ff074b781779e754b270ff9f8153cee"
   }
  }
 },
 "nbformat": 4,
 "nbformat_minor": 5
}
